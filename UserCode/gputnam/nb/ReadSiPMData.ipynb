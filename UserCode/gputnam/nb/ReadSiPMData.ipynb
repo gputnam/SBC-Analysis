{
 "cells": [
  {
   "cell_type": "code",
   "execution_count": null,
   "id": "c8908938",
   "metadata": {},
   "outputs": [],
   "source": [
    "from DataHandling import ReadBinary, GetSBCEvent\n",
    "import matplotlib.pyplot as plt\n",
    "import matplotlib as mpl\n",
    "import scipy\n",
    "import numpy as np\n",
    "\n",
    "from scipy import optimize\n",
    "import os"
   ]
  },
  {
   "cell_type": "code",
   "execution_count": null,
   "id": "f8df26ab",
   "metadata": {},
   "outputs": [],
   "source": [
    "mpl.rc(\"font\", size=14)"
   ]
  },
  {
   "cell_type": "code",
   "execution_count": null,
   "id": "a35f7a33",
   "metadata": {},
   "outputs": [],
   "source": [
    "rundir = \"/bluearc/storage/SBC-22-caendata\"\n",
    "anafile = \"/exp/e961/data/users/gputnam/test-acoustic/AcousticAnalysis_20171007_6.bin\"\n"
   ]
  },
  {
   "cell_type": "code",
   "execution_count": null,
   "id": "9b3a2ecb",
   "metadata": {},
   "outputs": [],
   "source": []
  },
  {
   "cell_type": "code",
   "execution_count": null,
   "id": "c007a95f",
   "metadata": {},
   "outputs": [],
   "source": [
    "path = \"/bluearc/storage/SBC-22-caendata\"\n",
    "file = \"202204151606.bin\"\n",
    "file = \"202206201111.bin\"\n",
    "\n",
    "filename = os.path.join(path, file)\n",
    "\n",
    "data = ReadBinary.ReadBlock(filename)\n",
    "print(f\"File loaded successfully. Total {len(data['sipm_traces'])} triggers\")"
   ]
  },
  {
   "cell_type": "code",
   "execution_count": null,
   "id": "7f1213e0",
   "metadata": {},
   "outputs": [],
   "source": [
    "data.keys()"
   ]
  },
  {
   "cell_type": "code",
   "execution_count": null,
   "id": "b8baaad7",
   "metadata": {},
   "outputs": [],
   "source": [
    "# Convert inputs into the waveform in (ns, V)\n",
    "raw_traces = data[\"sipm_traces\"][:1000, :, :].T/ 2**12 # 12 bit\n",
    "dc_offset = data[\"dc_offsets\"][:1000, :].T / 2**16 - 1 # overall offset, 16 bit\n",
    "ch_offset = data[\"dc_corrections\"][:1000, :].T / 2**16# per-channel offset 8-bit to the 16bit\n",
    "dc_range = data[\"dc_range\"][:1000, :].T  # should be 2V\n",
    "\n",
    "traces = ((raw_traces + dc_offset + ch_offset) * dc_range)\n",
    "sample_rate = data[\"sample_rate\"][:1000].T / 1e9"
   ]
  },
  {
   "cell_type": "code",
   "execution_count": null,
   "id": "52828ee5",
   "metadata": {},
   "outputs": [],
   "source": [
    "# obtain the leading baseline and RMS\n",
    "N_SAMPLE_BASELINE = 40\n",
    "\n",
    "baseline = traces[:N_SAMPLE_BASELINE].mean(axis=0)\n",
    "rms = traces[:N_SAMPLE_BASELINE].std(axis=0)\n",
    "\n",
    "# Start time of hit\n",
    "N_SIGMA_THRESHOLD = 5\n",
    "above_threshold = traces < (baseline - rms*N_SIGMA_THRESHOLD)\n",
    "t0_ind = np.argmax(above_threshold, axis=0)\n",
    "t0 = t0_ind / sample_rate\n",
    "\n",
    "# Final time of hit\n",
    "tf_ind = np.argmax(np.cumsum(~above_threshold, axis=0) > t0_ind, axis=0)"
   ]
  },
  {
   "cell_type": "code",
   "execution_count": null,
   "id": "1a1dba30",
   "metadata": {},
   "outputs": [],
   "source": [
    "wvf_index = np.zeros(traces.shape, dtype=np.int32)"
   ]
  },
  {
   "cell_type": "code",
   "execution_count": null,
   "id": "22733937",
   "metadata": {},
   "outputs": [],
   "source": [
    "wvf_index[:, :, :] = np.arange(0, wvf_index.shape[0]).reshape((wvf_index.shape[0], 1, 1))"
   ]
  },
  {
   "cell_type": "code",
   "execution_count": null,
   "id": "197d61a6",
   "metadata": {},
   "outputs": [],
   "source": [
    "hit_traces = traces*(wvf_index >= t0_ind)*(wvf_index < tf_ind)"
   ]
  },
  {
   "cell_type": "code",
   "execution_count": null,
   "id": "e74132f5",
   "metadata": {},
   "outputs": [],
   "source": [
    "t0.shape"
   ]
  },
  {
   "cell_type": "code",
   "execution_count": null,
   "id": "9d836615",
   "metadata": {},
   "outputs": [],
   "source": [
    "data[\"time_stamp\"].max() / 1e9"
   ]
  },
  {
   "cell_type": "code",
   "execution_count": null,
   "id": "fa6a5cad",
   "metadata": {},
   "outputs": [],
   "source": [
    "np.diff(data[\"time_stamp\"][688995:688999])"
   ]
  },
  {
   "cell_type": "code",
   "execution_count": null,
   "id": "50c32b6c",
   "metadata": {},
   "outputs": [],
   "source": [
    "data[\"time_stamp\"][688995:688999]"
   ]
  },
  {
   "cell_type": "code",
   "execution_count": null,
   "id": "cfe22374",
   "metadata": {},
   "outputs": [],
   "source": [
    "2**32"
   ]
  },
  {
   "cell_type": "code",
   "execution_count": null,
   "id": "eb3d43cc",
   "metadata": {},
   "outputs": [],
   "source": [
    "data[\"time_stamp\"]%(2**31)"
   ]
  },
  {
   "cell_type": "code",
   "execution_count": null,
   "id": "e34ba376",
   "metadata": {},
   "outputs": [],
   "source": [
    "plt.plot(data[\"time_stamp\"]%(2**31), linestyle=\"none\", marker=\".\")"
   ]
  },
  {
   "cell_type": "code",
   "execution_count": null,
   "id": "3a88f61b",
   "metadata": {},
   "outputs": [],
   "source": [
    "tf_ind"
   ]
  },
  {
   "cell_type": "code",
   "execution_count": null,
   "id": "c197a74f",
   "metadata": {},
   "outputs": [],
   "source": [
    "t0_ind.shape"
   ]
  },
  {
   "cell_type": "code",
   "execution_count": null,
   "id": "c8714a56",
   "metadata": {},
   "outputs": [],
   "source": [
    "sample_rate.shape"
   ]
  },
  {
   "cell_type": "code",
   "execution_count": null,
   "id": "cf184ad2",
   "metadata": {},
   "outputs": [],
   "source": [
    "data[\"sample_rate\"].shape"
   ]
  },
  {
   "cell_type": "code",
   "execution_count": null,
   "id": "5194c38d",
   "metadata": {},
   "outputs": [],
   "source": [
    "traces[:,:, :40].mean(axis=-1).shape"
   ]
  },
  {
   "cell_type": "code",
   "execution_count": null,
   "id": "78d0b710",
   "metadata": {},
   "outputs": [],
   "source": [
    "traces[0, 0]"
   ]
  },
  {
   "cell_type": "code",
   "execution_count": null,
   "id": "314f9f99",
   "metadata": {},
   "outputs": [],
   "source": [
    "for index in range(5):\n",
    "    plt.figure(index)\n",
    "    raw_traces = data[\"sipm_traces\"][index].T / 2**12 # 12 bit\n",
    "    # if offset value is 0, then the voltage is -2V to 0V\n",
    "    dc_offset = data[\"dc_offsets\"][index] / 2**16 - 1 # overall offset, 16 bit\n",
    "    ch_offset = data[\"dc_corrections\"][index] / 2**16 # per-channel offset 8-bit to the 16bit\n",
    "    dc_range = data[\"dc_range\"][index] # should be 2V\n",
    "    traces = ((raw_traces + dc_offset + ch_offset) * dc_range).T\n",
    "    # sample rate should be 62.5MHz, converting to ns\n",
    "    sample_rate = data[\"sample_rate\"][index] / 1e9 # in GHz\n",
    "    time = np.arange(0, traces.shape[1]/sample_rate, 1/sample_rate)\n",
    "\n",
    "    for trace in traces:\n",
    "        plt.plot(time, trace)\n",
    "    plt.xlabel(\"Time (ns)\")\n",
    "    plt.ylabel(\"Signal (V)\")\n",
    "    plt.legend([f\"Channel {n}\" for n in data[\"en_chs\"][0]])\n",
    "    plt.tight_layout()\n",
    "    plt.savefig(\"figures/sipm_trace_%i.png\" % index)"
   ]
  },
  {
   "cell_type": "code",
   "execution_count": null,
   "id": "c5110369",
   "metadata": {},
   "outputs": [],
   "source": []
  },
  {
   "cell_type": "code",
   "execution_count": null,
   "id": "2dccf49a",
   "metadata": {},
   "outputs": [],
   "source": []
  },
  {
   "cell_type": "code",
   "execution_count": null,
   "id": "67af4dda",
   "metadata": {},
   "outputs": [],
   "source": []
  },
  {
   "cell_type": "code",
   "execution_count": null,
   "id": "1d5e1917",
   "metadata": {},
   "outputs": [],
   "source": [
    "().sum()"
   ]
  }
 ],
 "metadata": {
  "kernelspec": {
   "display_name": "Python 3 (ipykernel)",
   "language": "python",
   "name": "python3"
  },
  "language_info": {
   "codemirror_mode": {
    "name": "ipython",
    "version": 3
   },
   "file_extension": ".py",
   "mimetype": "text/x-python",
   "name": "python",
   "nbconvert_exporter": "python",
   "pygments_lexer": "ipython3",
   "version": "3.9.18"
  }
 },
 "nbformat": 4,
 "nbformat_minor": 5
}
