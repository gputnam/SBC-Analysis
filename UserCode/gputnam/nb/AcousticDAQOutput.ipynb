{
 "cells": [
  {
   "cell_type": "code",
   "execution_count": null,
   "id": "eafc26b1",
   "metadata": {},
   "outputs": [],
   "source": [
    "from DataHandling import ReadBinary, GetSBCEvent\n",
    "import matplotlib.pyplot as plt\n",
    "import matplotlib as mpl\n",
    "import scipy\n",
    "import numpy as np\n",
    "\n",
    "from scipy import optimize"
   ]
  },
  {
   "cell_type": "code",
   "execution_count": null,
   "id": "92867a67",
   "metadata": {},
   "outputs": [],
   "source": [
    "1+1"
   ]
  },
  {
   "cell_type": "code",
   "execution_count": null,
   "id": "d6cb32d8",
   "metadata": {},
   "outputs": [],
   "source": [
    "mpl.rc(\"font\", size=14)"
   ]
  },
  {
   "cell_type": "code",
   "execution_count": null,
   "id": "0374c022",
   "metadata": {},
   "outputs": [],
   "source": [
    "f = \"/exp/e961/data/users/gputnam/test-daq/acoustic-114632-0726.sbc.bin\"\n",
    "\n",
    "f = \"/exp/e961/data/users/gputnam/test-daq/knock.sbc.bin\""
   ]
  },
  {
   "cell_type": "code",
   "execution_count": null,
   "id": "5a09c1e1",
   "metadata": {},
   "outputs": [],
   "source": [
    "d = ReadBinary.ReadBlock(f)"
   ]
  },
  {
   "cell_type": "code",
   "execution_count": null,
   "id": "baa9723b",
   "metadata": {},
   "outputs": [],
   "source": [
    "d.keys()"
   ]
  },
  {
   "cell_type": "code",
   "execution_count": null,
   "id": "87e54b93",
   "metadata": {},
   "outputs": [],
   "source": [
    "d[\"Channel8\"].shape"
   ]
  },
  {
   "cell_type": "code",
   "execution_count": null,
   "id": "824b53b6",
   "metadata": {},
   "outputs": [],
   "source": [
    "# plt.plot(d[\"Segment ID\"])"
   ]
  },
  {
   "cell_type": "code",
   "execution_count": null,
   "id": "44df3169",
   "metadata": {},
   "outputs": [],
   "source": [
    "# plt.plot(d[\"Timestamp\"])"
   ]
  },
  {
   "cell_type": "code",
   "execution_count": null,
   "id": "63a9f5c2",
   "metadata": {},
   "outputs": [],
   "source": [
    "# plt.plot(d[\"Trigger Source\"])"
   ]
  },
  {
   "cell_type": "code",
   "execution_count": null,
   "id": "9dbe7efb",
   "metadata": {},
   "outputs": [],
   "source": [
    "d[\"Channel1\"]"
   ]
  },
  {
   "cell_type": "code",
   "execution_count": null,
   "id": "b881060f",
   "metadata": {},
   "outputs": [],
   "source": [
    "plt.plot(d[\"Channel%i\" % 1][1:])"
   ]
  },
  {
   "cell_type": "code",
   "execution_count": null,
   "id": "27afce54",
   "metadata": {},
   "outputs": [],
   "source": [
    "for i in range(1, 9):\n",
    "    plt.plot(d[\"Channel%i\" % i][1:])\n",
    "    \n",
    "plt.xlim([0, 500])"
   ]
  },
  {
   "cell_type": "code",
   "execution_count": null,
   "id": "5a9a897b",
   "metadata": {},
   "outputs": [],
   "source": []
  }
 ],
 "metadata": {
  "kernelspec": {
   "display_name": "Python 3 (ipykernel)",
   "language": "python",
   "name": "python3"
  },
  "language_info": {
   "codemirror_mode": {
    "name": "ipython",
    "version": 3
   },
   "file_extension": ".py",
   "mimetype": "text/x-python",
   "name": "python",
   "nbconvert_exporter": "python",
   "pygments_lexer": "ipython3",
   "version": "3.9.18"
  }
 },
 "nbformat": 4,
 "nbformat_minor": 5
}
