{
 "cells": [
  {
   "cell_type": "code",
   "execution_count": null,
   "id": "b5b0aadb",
   "metadata": {},
   "outputs": [],
   "source": [
    "import numpy as np\n",
    "import matplotlib.pyplot as plt \n",
    "import matplotlib as mpl\n"
   ]
  },
  {
   "cell_type": "code",
   "execution_count": null,
   "id": "f4ea87db",
   "metadata": {},
   "outputs": [],
   "source": [
    "mpl.rc(\"font\", size=14)"
   ]
  },
  {
   "cell_type": "code",
   "execution_count": null,
   "id": "ce9c3c85",
   "metadata": {},
   "outputs": [],
   "source": [
    "import os\n",
    "from DataHandling import ReadBinary, GetSBCEvent\n",
    "from LAr10Ana.SiPMPulses import SiPMPulses\n",
    "from LAr10Ana.PhotonT0 import PhotonT0\n",
    "\n",
    "path = \"/bluearc/storage/SBC-22-caendata\"\n",
    "file = \"202206201045.bin\"\n",
    "\n",
    "filename = os.path.join(path, file)\n",
    "\n",
    "data = ReadBinary.ReadBlock(filename)\n",
    "sipm_data = SiPMPulses(data)\n",
    "comb_data = PhotonT0(sipm_data)"
   ]
  },
  {
   "cell_type": "code",
   "execution_count": null,
   "id": "ff960448",
   "metadata": {},
   "outputs": [],
   "source": [
    "bins = np.linspace(1000, 1300, 101)"
   ]
  },
  {
   "cell_type": "code",
   "execution_count": null,
   "id": "26d1b6da",
   "metadata": {},
   "outputs": [],
   "source": [
    "_ = plt.hist(comb_data[\"t0\"], bins=bins)"
   ]
  },
  {
   "cell_type": "code",
   "execution_count": null,
   "id": "dc18b3a0",
   "metadata": {},
   "outputs": [],
   "source": [
    "_ = plt.hist(comb_data[\"amp\"], bins=np.linspace(0, 0.1, 21))"
   ]
  },
  {
   "cell_type": "code",
   "execution_count": null,
   "id": "315a1828",
   "metadata": {},
   "outputs": [],
   "source": [
    "_ = plt.hist(sipm_data[\"rms\"].T, histtype=\"step\", bins=np.linspace(0, 0.001, 21))"
   ]
  },
  {
   "cell_type": "code",
   "execution_count": null,
   "id": "ac537bba",
   "metadata": {},
   "outputs": [],
   "source": [
    "_ = plt.hist(sipm_data[\"baseline\"].T, histtype=\"step\", bins=np.linspace(0.031, 0.033, 21))"
   ]
  },
  {
   "cell_type": "code",
   "execution_count": null,
   "id": "0964964a",
   "metadata": {},
   "outputs": [],
   "source": [
    "_ = plt.hist(sipm_data[\"hit_amp\"].T, histtype=\"step\", bins=np.linspace(0, 0.05, 101))"
   ]
  },
  {
   "cell_type": "code",
   "execution_count": null,
   "id": "edb95817",
   "metadata": {},
   "outputs": [],
   "source": []
  }
 ],
 "metadata": {
  "kernelspec": {
   "display_name": "Python 3 (ipykernel)",
   "language": "python",
   "name": "python3"
  },
  "language_info": {
   "codemirror_mode": {
    "name": "ipython",
    "version": 3
   },
   "file_extension": ".py",
   "mimetype": "text/x-python",
   "name": "python",
   "nbconvert_exporter": "python",
   "pygments_lexer": "ipython3",
   "version": "3.9.18"
  }
 },
 "nbformat": 4,
 "nbformat_minor": 5
}
