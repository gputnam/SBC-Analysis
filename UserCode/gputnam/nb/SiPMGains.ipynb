{
 "cells": [
  {
   "cell_type": "code",
   "execution_count": null,
   "id": "2f92e57e",
   "metadata": {},
   "outputs": [],
   "source": [
    "import numpy as np\n",
    "import matplotlib.pyplot as plt \n",
    "import matplotlib as mpl\n",
    "\n",
    "from scipy.optimize import curve_fit"
   ]
  },
  {
   "cell_type": "code",
   "execution_count": null,
   "id": "659eec30",
   "metadata": {},
   "outputs": [],
   "source": [
    "mpl.rc(\"font\", size=14)"
   ]
  },
  {
   "cell_type": "code",
   "execution_count": null,
   "id": "2e0b609c",
   "metadata": {},
   "outputs": [],
   "source": [
    "import os\n",
    "from DataHandling import ReadBinary, GetSBCEvent\n",
    "from LAr10Ana.SiPMPulses import SiPMPulses\n",
    "from LAr10Ana.PhotonT0 import PhotonT0\n",
    "\n",
    "path = \"/bluearc/storage/SBC-22-caendata\"\n",
    "file = \"202206201045.bin\"\n",
    "\n",
    "filename = os.path.join(path, file)\n",
    "\n",
    "data = ReadBinary.ReadBlock(filename)\n",
    "sipm_data = SiPMPulses(data)\n",
    "comb_data = PhotonT0(sipm_data)"
   ]
  },
  {
   "cell_type": "code",
   "execution_count": null,
   "id": "23f2bfc6",
   "metadata": {},
   "outputs": [],
   "source": [
    "bins = np.linspace(0, 0.05, 101)\n",
    "centers = (bins[:-1] + bins[1:]) / 2\n",
    "\n",
    "N,_,_ = plt.hist(sipm_data[\"hit_amp\"].T, histtype=\"step\", bins=bins, label=[\"Channel %i\" % i for i in range(sipm_data[\"hit_amp\"].shape[0])])\n",
    "\n",
    "plt.xlabel(\"Hit Amplitude [V]\")\n",
    "plt.ylabel(\"# Hits\")\n",
    "plt.legend()\n",
    "plt.tight_layout()\n",
    "plt.savefig(\"figures/sipm_amplitudes.png\")"
   ]
  },
  {
   "cell_type": "code",
   "execution_count": null,
   "id": "45e9441d",
   "metadata": {},
   "outputs": [],
   "source": [
    "def gauss(V, A, mu, sigma):\n",
    "    return A * np.exp(-(V-mu)**2/(2*sigma**2))\n",
    "\n",
    "def ngauss(V, *p):\n",
    "    assert(len(p) % 3 == 0)\n",
    "    ngaus = len(p) // 3\n",
    "    return np.sum([gauss(V, *p[i*3:(i+1)*3]) for i in range(ngaus)], axis=0)"
   ]
  },
  {
   "cell_type": "code",
   "execution_count": null,
   "id": "e909f7fe",
   "metadata": {},
   "outputs": [],
   "source": [
    "NFIT = 5\n",
    "\n",
    "mu_p0 = np.array([0.005*(i+1) for i in range(NFIT)])\n",
    "sig_p0 = np.array([0.0005]*NFIT)\n",
    "A_p0 = np.array([1.2e4/2**i for i in range(NFIT)])\n",
    "\n",
    "p0 = sum([[A_p0[i], mu_p0[i], sig_p0[i]] for i in range(NFIT)], [])\n",
    "\n",
    "mu_lo = mu_p0 - 0.0025\n",
    "mu_hi = mu_p0 + 0.0025\n",
    "\n",
    "sig_lo = np.array([0.00025]*NFIT)\n",
    "sig_hi = np.array([0.00100]*NFIT)\n",
    "\n",
    "A_lo = A_p0/2\n",
    "A_hi = A_p0*2\n",
    "\n",
    "lo = sum([[A_lo[i], mu_lo[i], sig_lo[i]] for i in range(NFIT)], [])\n",
    "hi = sum([[A_hi[i], mu_hi[i], sig_hi[i]] for i in range(NFIT)], [])"
   ]
  },
  {
   "cell_type": "code",
   "execution_count": null,
   "id": "b40813e5",
   "metadata": {},
   "outputs": [],
   "source": [
    "N, _ = np.histogram(sipm_data[\"hit_amp\"].T, bins=bins)"
   ]
  },
  {
   "cell_type": "code",
   "execution_count": null,
   "id": "f74d10eb",
   "metadata": {},
   "outputs": [],
   "source": [
    "sipm_data[\"hit_amp\"].shape"
   ]
  },
  {
   "cell_type": "code",
   "execution_count": null,
   "id": "07a4e7c5",
   "metadata": {},
   "outputs": [],
   "source": [
    "popts = []\n",
    "\n",
    "for i_sipm in range(3):\n",
    "    where_fit = (centers > 0.003) & (centers < 0.027)\n",
    "    popt, perr = curve_fit(ngauss, centers[where_fit], N[i_sipm][where_fit], p0=p0, bounds=(lo, hi))\n",
    "    \n",
    "    popts.append(popt)\n",
    "\n",
    "#     amps = popt[::3]\n",
    "#     peaks = popt[1::3]\n",
    "#     widths = popt[2::3]"
   ]
  },
  {
   "cell_type": "code",
   "execution_count": null,
   "id": "50b56130",
   "metadata": {},
   "outputs": [],
   "source": [
    "for i_sipm in range(3):\n",
    "    plt.figure(i_sipm)\n",
    "    \n",
    "    plt.plot(centers[where_fit], N[i_sipm][where_fit])\n",
    "\n",
    "    plt.plot(centers[where_fit], ngauss(centers[where_fit], *p0))\n",
    "    plt.plot(centers[where_fit], ngauss(centers[where_fit], *popts[i_sipm]))"
   ]
  },
  {
   "cell_type": "code",
   "execution_count": null,
   "id": "e8eb856b",
   "metadata": {},
   "outputs": [],
   "source": [
    "for i_sipm in range(3):\n",
    "    plt.figure(i_sipm)\n",
    "    popt = popts[i_sipm]\n",
    "    peaks = popt[1::3]\n",
    "    \n",
    "    npe = np.arange(1, len(peaks)+1)\n",
    "    m, b = np.polyfit(npe, peaks, 1)\n",
    "\n",
    "    plt.plot(npe, peaks)\n",
    "    plt.plot(npe, npe*m+b)\n",
    "\n",
    "    print(i_sipm, m, b)"
   ]
  },
  {
   "cell_type": "code",
   "execution_count": null,
   "id": "00aa2fa9",
   "metadata": {},
   "outputs": [],
   "source": []
  }
 ],
 "metadata": {
  "kernelspec": {
   "display_name": "Python 3 (ipykernel)",
   "language": "python",
   "name": "python3"
  },
  "language_info": {
   "codemirror_mode": {
    "name": "ipython",
    "version": 3
   },
   "file_extension": ".py",
   "mimetype": "text/x-python",
   "name": "python",
   "nbconvert_exporter": "python",
   "pygments_lexer": "ipython3",
   "version": "3.9.18"
  }
 },
 "nbformat": 4,
 "nbformat_minor": 5
}
