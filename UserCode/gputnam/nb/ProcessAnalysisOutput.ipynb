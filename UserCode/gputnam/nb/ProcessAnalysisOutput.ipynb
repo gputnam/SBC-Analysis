{
 "cells": [
  {
   "cell_type": "code",
   "execution_count": null,
   "id": "5ac3bc03",
   "metadata": {},
   "outputs": [],
   "source": [
    "from DataHandling import ReadBinary, GetSBCEvent\n",
    "import matplotlib.pyplot as plt\n",
    "import matplotlib as mpl\n",
    "import scipy\n",
    "import numpy as np\n",
    "\n",
    "from scipy import optimize\n",
    "\n",
    "import os"
   ]
  },
  {
   "cell_type": "code",
   "execution_count": null,
   "id": "d2d860f8",
   "metadata": {},
   "outputs": [],
   "source": [
    "mpl.rc(\"font\", size=14)"
   ]
  },
  {
   "cell_type": "code",
   "execution_count": null,
   "id": "f8ff2234",
   "metadata": {},
   "outputs": [],
   "source": [
    "1+1"
   ]
  },
  {
   "cell_type": "code",
   "execution_count": null,
   "id": "74f9c3f9",
   "metadata": {},
   "outputs": [],
   "source": [
    "anadir = \"/exp/e961/data/users/gputnam/test-acoustic/\"\n",
    "\n",
    "runstr = \"20171007_6\"\n",
    "\n",
    "acoustic_ana = os.path.join(anadir, \"AcousticAnalysis_%s.bin\" % runstr)\n",
    "event_ana = os.path.join(anadir, \"EventAnalysis_%s.bin\" % runstr)\n",
    "exposure_ana = os.path.join(anadir, \"ExposureAnalysis_%s.bin\" % runstr)"
   ]
  },
  {
   "cell_type": "code",
   "execution_count": null,
   "id": "0abc7e53",
   "metadata": {},
   "outputs": [],
   "source": [
    "aa = ReadBinary.ReadBlock(acoustic_ana)\n",
    "eva = ReadBinary.ReadBlock(event_ana)\n",
    "expa = ReadBinary.ReadBlock(exposure_ana)"
   ]
  },
  {
   "cell_type": "code",
   "execution_count": null,
   "id": "0ceee8c8",
   "metadata": {},
   "outputs": [],
   "source": [
    "bins = np.linspace(-0.1, 0.1, 21)\n",
    "_, bins, _ = plt.hist(aa[\"bubble_t0\"][:, 0], bins=bins, histtype=\"step\", linewidth=2, label=\"Piezo 0\")\n",
    "_ = plt.hist(aa[\"bubble_t0\"][:, 1], bins=bins, histtype=\"step\", linewidth=2, label=\"Piezo 1\")\n",
    "\n",
    "plt.legend()"
   ]
  },
  {
   "cell_type": "code",
   "execution_count": null,
   "id": "ff7abcb1",
   "metadata": {},
   "outputs": [],
   "source": [
    "eva"
   ]
  },
  {
   "cell_type": "code",
   "execution_count": null,
   "id": "e43e10d4",
   "metadata": {},
   "outputs": [],
   "source": [
    "expa[\"Exposure\"][0, 0].shape"
   ]
  },
  {
   "cell_type": "code",
   "execution_count": null,
   "id": "5a0ca582",
   "metadata": {},
   "outputs": [],
   "source": [
    "plt.imshow(expa[\"Exposure\"][0, 0], origin=\"lower\", extent=(0, 30, 13.5, 87+13.5), aspect=30/87.)\n",
    "plt.colorbar()\n",
    "plt.xlabel(\"Time\")\n",
    "plt.ylabel(\"Pressure\")"
   ]
  },
  {
   "cell_type": "code",
   "execution_count": null,
   "id": "a801d9e2",
   "metadata": {},
   "outputs": [],
   "source": []
  }
 ],
 "metadata": {
  "kernelspec": {
   "display_name": "Python 3 (ipykernel)",
   "language": "python",
   "name": "python3"
  },
  "language_info": {
   "codemirror_mode": {
    "name": "ipython",
    "version": 3
   },
   "file_extension": ".py",
   "mimetype": "text/x-python",
   "name": "python",
   "nbconvert_exporter": "python",
   "pygments_lexer": "ipython3",
   "version": "3.9.18"
  }
 },
 "nbformat": 4,
 "nbformat_minor": 5
}
